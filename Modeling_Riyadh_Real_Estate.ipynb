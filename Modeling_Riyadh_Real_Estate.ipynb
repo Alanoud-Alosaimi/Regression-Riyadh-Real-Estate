{
 "cells": [
  {
   "cell_type": "code",
   "execution_count": 1,
   "id": "incoming-prize",
   "metadata": {},
   "outputs": [],
   "source": [
    "import numpy as np\n",
    "import pandas as pd\n",
    "import matplotlib.pyplot as plt\n",
    "import seaborn as sns                        \n",
    "%matplotlib inline\n",
    "from sklearn.metrics import mean_squared_error, r2_score\n",
    "from sklearn.linear_model import LinearRegression         \n",
    "from sklearn.model_selection import train_test_split      \n",
    "from sklearn.model_selection import cross_val_score\n",
    "from math import sqrt"
   ]
  },
  {
   "cell_type": "code",
   "execution_count": 2,
   "id": "hollow-knock",
   "metadata": {},
   "outputs": [],
   "source": [
    "df = pd.read_csv('Real_estate.csv')"
   ]
  },
  {
   "cell_type": "code",
   "execution_count": 3,
   "id": "crude-consultancy",
   "metadata": {},
   "outputs": [
    {
     "data": {
      "text/plain": [
       "(4260, 6)"
      ]
     },
     "execution_count": 3,
     "metadata": {},
     "output_type": "execute_result"
    }
   ],
   "source": [
    "df.shape"
   ]
  },
  {
   "cell_type": "code",
   "execution_count": 4,
   "id": "supreme-header",
   "metadata": {},
   "outputs": [
    {
     "data": {
      "text/html": [
       "<div>\n",
       "<style scoped>\n",
       "    .dataframe tbody tr th:only-of-type {\n",
       "        vertical-align: middle;\n",
       "    }\n",
       "\n",
       "    .dataframe tbody tr th {\n",
       "        vertical-align: top;\n",
       "    }\n",
       "\n",
       "    .dataframe thead th {\n",
       "        text-align: right;\n",
       "    }\n",
       "</style>\n",
       "<table border=\"1\" class=\"dataframe\">\n",
       "  <thead>\n",
       "    <tr style=\"text-align: right;\">\n",
       "      <th></th>\n",
       "      <th>Unnamed: 0</th>\n",
       "      <th>Location</th>\n",
       "      <th>SleepRoom</th>\n",
       "      <th>BathRoom</th>\n",
       "      <th>Size</th>\n",
       "      <th>Prices</th>\n",
       "    </tr>\n",
       "  </thead>\n",
       "  <tbody>\n",
       "    <tr>\n",
       "      <th>0</th>\n",
       "      <td>0</td>\n",
       "      <td>north</td>\n",
       "      <td>4</td>\n",
       "      <td>5</td>\n",
       "      <td>300 م²</td>\n",
       "      <td>1,900,000 ريال</td>\n",
       "    </tr>\n",
       "    <tr>\n",
       "      <th>1</th>\n",
       "      <td>1</td>\n",
       "      <td>north</td>\n",
       "      <td>6</td>\n",
       "      <td>5</td>\n",
       "      <td>315 م²</td>\n",
       "      <td>2,150,000 ريال</td>\n",
       "    </tr>\n",
       "    <tr>\n",
       "      <th>2</th>\n",
       "      <td>2</td>\n",
       "      <td>north</td>\n",
       "      <td>3</td>\n",
       "      <td>3</td>\n",
       "      <td>750 م²</td>\n",
       "      <td>4,750,000 ريال</td>\n",
       "    </tr>\n",
       "    <tr>\n",
       "      <th>3</th>\n",
       "      <td>3</td>\n",
       "      <td>north</td>\n",
       "      <td>7</td>\n",
       "      <td>5</td>\n",
       "      <td>950 م²</td>\n",
       "      <td>6,500,000 ريال</td>\n",
       "    </tr>\n",
       "    <tr>\n",
       "      <th>4</th>\n",
       "      <td>4</td>\n",
       "      <td>north</td>\n",
       "      <td>7</td>\n",
       "      <td>5</td>\n",
       "      <td>322 م²</td>\n",
       "      <td>2,200,000 ريال</td>\n",
       "    </tr>\n",
       "  </tbody>\n",
       "</table>\n",
       "</div>"
      ],
      "text/plain": [
       "   Unnamed: 0 Location  SleepRoom  BathRoom    Size          Prices\n",
       "0           0    north          4         5  300 م²  1,900,000 ريال\n",
       "1           1    north          6         5  315 م²  2,150,000 ريال\n",
       "2           2    north          3         3  750 م²  4,750,000 ريال\n",
       "3           3    north          7         5  950 م²  6,500,000 ريال\n",
       "4           4    north          7         5  322 م²  2,200,000 ريال"
      ]
     },
     "execution_count": 4,
     "metadata": {},
     "output_type": "execute_result"
    }
   ],
   "source": [
    "df.head()"
   ]
  },
  {
   "cell_type": "code",
   "execution_count": 5,
   "id": "cultural-nirvana",
   "metadata": {},
   "outputs": [
    {
     "name": "stdout",
     "output_type": "stream",
     "text": [
      "<class 'pandas.core.frame.DataFrame'>\n",
      "RangeIndex: 4260 entries, 0 to 4259\n",
      "Data columns (total 6 columns):\n",
      " #   Column      Non-Null Count  Dtype \n",
      "---  ------      --------------  ----- \n",
      " 0   Unnamed: 0  4260 non-null   int64 \n",
      " 1   Location    4260 non-null   object\n",
      " 2   SleepRoom   4260 non-null   int64 \n",
      " 3   BathRoom    4260 non-null   int64 \n",
      " 4   Size        4260 non-null   object\n",
      " 5   Prices      4260 non-null   object\n",
      "dtypes: int64(3), object(3)\n",
      "memory usage: 199.8+ KB\n"
     ]
    }
   ],
   "source": [
    "df.info()"
   ]
  },
  {
   "cell_type": "markdown",
   "id": "conceptual-guess",
   "metadata": {},
   "source": [
    "# Data Pre-processing"
   ]
  },
  {
   "cell_type": "code",
   "execution_count": 6,
   "id": "innocent-rabbit",
   "metadata": {},
   "outputs": [
    {
     "data": {
      "text/html": [
       "<div>\n",
       "<style scoped>\n",
       "    .dataframe tbody tr th:only-of-type {\n",
       "        vertical-align: middle;\n",
       "    }\n",
       "\n",
       "    .dataframe tbody tr th {\n",
       "        vertical-align: top;\n",
       "    }\n",
       "\n",
       "    .dataframe thead th {\n",
       "        text-align: right;\n",
       "    }\n",
       "</style>\n",
       "<table border=\"1\" class=\"dataframe\">\n",
       "  <thead>\n",
       "    <tr style=\"text-align: right;\">\n",
       "      <th></th>\n",
       "      <th>Unnamed: 0</th>\n",
       "      <th>Location</th>\n",
       "      <th>SleepRoom</th>\n",
       "      <th>BathRoom</th>\n",
       "      <th>Size</th>\n",
       "      <th>Prices</th>\n",
       "    </tr>\n",
       "  </thead>\n",
       "  <tbody>\n",
       "    <tr>\n",
       "      <th>0</th>\n",
       "      <td>0</td>\n",
       "      <td>north</td>\n",
       "      <td>4</td>\n",
       "      <td>5</td>\n",
       "      <td>300 م²</td>\n",
       "      <td>1900000</td>\n",
       "    </tr>\n",
       "    <tr>\n",
       "      <th>1</th>\n",
       "      <td>1</td>\n",
       "      <td>north</td>\n",
       "      <td>6</td>\n",
       "      <td>5</td>\n",
       "      <td>315 م²</td>\n",
       "      <td>2150000</td>\n",
       "    </tr>\n",
       "    <tr>\n",
       "      <th>2</th>\n",
       "      <td>2</td>\n",
       "      <td>north</td>\n",
       "      <td>3</td>\n",
       "      <td>3</td>\n",
       "      <td>750 م²</td>\n",
       "      <td>4750000</td>\n",
       "    </tr>\n",
       "    <tr>\n",
       "      <th>3</th>\n",
       "      <td>3</td>\n",
       "      <td>north</td>\n",
       "      <td>7</td>\n",
       "      <td>5</td>\n",
       "      <td>950 م²</td>\n",
       "      <td>6500000</td>\n",
       "    </tr>\n",
       "    <tr>\n",
       "      <th>4</th>\n",
       "      <td>4</td>\n",
       "      <td>north</td>\n",
       "      <td>7</td>\n",
       "      <td>5</td>\n",
       "      <td>322 م²</td>\n",
       "      <td>2200000</td>\n",
       "    </tr>\n",
       "    <tr>\n",
       "      <th>...</th>\n",
       "      <td>...</td>\n",
       "      <td>...</td>\n",
       "      <td>...</td>\n",
       "      <td>...</td>\n",
       "      <td>...</td>\n",
       "      <td>...</td>\n",
       "    </tr>\n",
       "    <tr>\n",
       "      <th>4255</th>\n",
       "      <td>995</td>\n",
       "      <td>south</td>\n",
       "      <td>7</td>\n",
       "      <td>5</td>\n",
       "      <td>500 م²</td>\n",
       "      <td>850000</td>\n",
       "    </tr>\n",
       "    <tr>\n",
       "      <th>4256</th>\n",
       "      <td>996</td>\n",
       "      <td>south</td>\n",
       "      <td>7</td>\n",
       "      <td>5</td>\n",
       "      <td>270 م²</td>\n",
       "      <td>850000</td>\n",
       "    </tr>\n",
       "    <tr>\n",
       "      <th>4257</th>\n",
       "      <td>997</td>\n",
       "      <td>south</td>\n",
       "      <td>5</td>\n",
       "      <td>5</td>\n",
       "      <td>450 م²</td>\n",
       "      <td>1700000</td>\n",
       "    </tr>\n",
       "    <tr>\n",
       "      <th>4258</th>\n",
       "      <td>998</td>\n",
       "      <td>south</td>\n",
       "      <td>5</td>\n",
       "      <td>4</td>\n",
       "      <td>552 م²</td>\n",
       "      <td>1200000</td>\n",
       "    </tr>\n",
       "    <tr>\n",
       "      <th>4259</th>\n",
       "      <td>999</td>\n",
       "      <td>south</td>\n",
       "      <td>5</td>\n",
       "      <td>5</td>\n",
       "      <td>500 م²</td>\n",
       "      <td>1800000</td>\n",
       "    </tr>\n",
       "  </tbody>\n",
       "</table>\n",
       "<p>4260 rows × 6 columns</p>\n",
       "</div>"
      ],
      "text/plain": [
       "      Unnamed: 0 Location  SleepRoom  BathRoom    Size    Prices\n",
       "0              0    north          4         5  300 م²  1900000 \n",
       "1              1    north          6         5  315 م²  2150000 \n",
       "2              2    north          3         3  750 م²  4750000 \n",
       "3              3    north          7         5  950 م²  6500000 \n",
       "4              4    north          7         5  322 م²  2200000 \n",
       "...          ...      ...        ...       ...     ...       ...\n",
       "4255         995    south          7         5  500 م²   850000 \n",
       "4256         996    south          7         5  270 م²   850000 \n",
       "4257         997    south          5         5  450 م²  1700000 \n",
       "4258         998    south          5         4  552 م²  1200000 \n",
       "4259         999    south          5         5  500 م²  1800000 \n",
       "\n",
       "[4260 rows x 6 columns]"
      ]
     },
     "execution_count": 6,
     "metadata": {},
     "output_type": "execute_result"
    }
   ],
   "source": [
    "#Clean Prices column\n",
    "df['Prices'] = df['Prices'].str.replace(\"ريال\", \"\").str.replace(\",\", \"\")\n",
    "df"
   ]
  },
  {
   "cell_type": "code",
   "execution_count": 7,
   "id": "artificial-zimbabwe",
   "metadata": {},
   "outputs": [
    {
     "data": {
      "text/html": [
       "<div>\n",
       "<style scoped>\n",
       "    .dataframe tbody tr th:only-of-type {\n",
       "        vertical-align: middle;\n",
       "    }\n",
       "\n",
       "    .dataframe tbody tr th {\n",
       "        vertical-align: top;\n",
       "    }\n",
       "\n",
       "    .dataframe thead th {\n",
       "        text-align: right;\n",
       "    }\n",
       "</style>\n",
       "<table border=\"1\" class=\"dataframe\">\n",
       "  <thead>\n",
       "    <tr style=\"text-align: right;\">\n",
       "      <th></th>\n",
       "      <th>Unnamed: 0</th>\n",
       "      <th>Location</th>\n",
       "      <th>SleepRoom</th>\n",
       "      <th>BathRoom</th>\n",
       "      <th>Size</th>\n",
       "      <th>Prices</th>\n",
       "    </tr>\n",
       "  </thead>\n",
       "  <tbody>\n",
       "    <tr>\n",
       "      <th>0</th>\n",
       "      <td>0</td>\n",
       "      <td>north</td>\n",
       "      <td>4</td>\n",
       "      <td>5</td>\n",
       "      <td>300</td>\n",
       "      <td>1900000</td>\n",
       "    </tr>\n",
       "    <tr>\n",
       "      <th>1</th>\n",
       "      <td>1</td>\n",
       "      <td>north</td>\n",
       "      <td>6</td>\n",
       "      <td>5</td>\n",
       "      <td>315</td>\n",
       "      <td>2150000</td>\n",
       "    </tr>\n",
       "    <tr>\n",
       "      <th>2</th>\n",
       "      <td>2</td>\n",
       "      <td>north</td>\n",
       "      <td>3</td>\n",
       "      <td>3</td>\n",
       "      <td>750</td>\n",
       "      <td>4750000</td>\n",
       "    </tr>\n",
       "    <tr>\n",
       "      <th>3</th>\n",
       "      <td>3</td>\n",
       "      <td>north</td>\n",
       "      <td>7</td>\n",
       "      <td>5</td>\n",
       "      <td>950</td>\n",
       "      <td>6500000</td>\n",
       "    </tr>\n",
       "    <tr>\n",
       "      <th>4</th>\n",
       "      <td>4</td>\n",
       "      <td>north</td>\n",
       "      <td>7</td>\n",
       "      <td>5</td>\n",
       "      <td>322</td>\n",
       "      <td>2200000</td>\n",
       "    </tr>\n",
       "    <tr>\n",
       "      <th>...</th>\n",
       "      <td>...</td>\n",
       "      <td>...</td>\n",
       "      <td>...</td>\n",
       "      <td>...</td>\n",
       "      <td>...</td>\n",
       "      <td>...</td>\n",
       "    </tr>\n",
       "    <tr>\n",
       "      <th>4255</th>\n",
       "      <td>995</td>\n",
       "      <td>south</td>\n",
       "      <td>7</td>\n",
       "      <td>5</td>\n",
       "      <td>500</td>\n",
       "      <td>850000</td>\n",
       "    </tr>\n",
       "    <tr>\n",
       "      <th>4256</th>\n",
       "      <td>996</td>\n",
       "      <td>south</td>\n",
       "      <td>7</td>\n",
       "      <td>5</td>\n",
       "      <td>270</td>\n",
       "      <td>850000</td>\n",
       "    </tr>\n",
       "    <tr>\n",
       "      <th>4257</th>\n",
       "      <td>997</td>\n",
       "      <td>south</td>\n",
       "      <td>5</td>\n",
       "      <td>5</td>\n",
       "      <td>450</td>\n",
       "      <td>1700000</td>\n",
       "    </tr>\n",
       "    <tr>\n",
       "      <th>4258</th>\n",
       "      <td>998</td>\n",
       "      <td>south</td>\n",
       "      <td>5</td>\n",
       "      <td>4</td>\n",
       "      <td>552</td>\n",
       "      <td>1200000</td>\n",
       "    </tr>\n",
       "    <tr>\n",
       "      <th>4259</th>\n",
       "      <td>999</td>\n",
       "      <td>south</td>\n",
       "      <td>5</td>\n",
       "      <td>5</td>\n",
       "      <td>500</td>\n",
       "      <td>1800000</td>\n",
       "    </tr>\n",
       "  </tbody>\n",
       "</table>\n",
       "<p>4260 rows × 6 columns</p>\n",
       "</div>"
      ],
      "text/plain": [
       "      Unnamed: 0 Location  SleepRoom  BathRoom  Size    Prices\n",
       "0              0    north          4         5  300   1900000 \n",
       "1              1    north          6         5  315   2150000 \n",
       "2              2    north          3         3  750   4750000 \n",
       "3              3    north          7         5  950   6500000 \n",
       "4              4    north          7         5  322   2200000 \n",
       "...          ...      ...        ...       ...   ...       ...\n",
       "4255         995    south          7         5  500    850000 \n",
       "4256         996    south          7         5  270    850000 \n",
       "4257         997    south          5         5  450   1700000 \n",
       "4258         998    south          5         4  552   1200000 \n",
       "4259         999    south          5         5  500   1800000 \n",
       "\n",
       "[4260 rows x 6 columns]"
      ]
     },
     "execution_count": 7,
     "metadata": {},
     "output_type": "execute_result"
    }
   ],
   "source": [
    "#Clean Size column\n",
    "df['Size'] = df['Size'].str.replace(\"م²\", \"\")\n",
    "df"
   ]
  },
  {
   "cell_type": "code",
   "execution_count": 8,
   "id": "naval-shower",
   "metadata": {},
   "outputs": [
    {
     "data": {
      "text/html": [
       "<div>\n",
       "<style scoped>\n",
       "    .dataframe tbody tr th:only-of-type {\n",
       "        vertical-align: middle;\n",
       "    }\n",
       "\n",
       "    .dataframe tbody tr th {\n",
       "        vertical-align: top;\n",
       "    }\n",
       "\n",
       "    .dataframe thead th {\n",
       "        text-align: right;\n",
       "    }\n",
       "</style>\n",
       "<table border=\"1\" class=\"dataframe\">\n",
       "  <thead>\n",
       "    <tr style=\"text-align: right;\">\n",
       "      <th></th>\n",
       "      <th>Location</th>\n",
       "      <th>SleepRoom</th>\n",
       "      <th>BathRoom</th>\n",
       "      <th>Size</th>\n",
       "      <th>Prices</th>\n",
       "    </tr>\n",
       "  </thead>\n",
       "  <tbody>\n",
       "    <tr>\n",
       "      <th>0</th>\n",
       "      <td>north</td>\n",
       "      <td>4</td>\n",
       "      <td>5</td>\n",
       "      <td>300</td>\n",
       "      <td>1900000</td>\n",
       "    </tr>\n",
       "    <tr>\n",
       "      <th>1</th>\n",
       "      <td>north</td>\n",
       "      <td>6</td>\n",
       "      <td>5</td>\n",
       "      <td>315</td>\n",
       "      <td>2150000</td>\n",
       "    </tr>\n",
       "    <tr>\n",
       "      <th>2</th>\n",
       "      <td>north</td>\n",
       "      <td>3</td>\n",
       "      <td>3</td>\n",
       "      <td>750</td>\n",
       "      <td>4750000</td>\n",
       "    </tr>\n",
       "    <tr>\n",
       "      <th>3</th>\n",
       "      <td>north</td>\n",
       "      <td>7</td>\n",
       "      <td>5</td>\n",
       "      <td>950</td>\n",
       "      <td>6500000</td>\n",
       "    </tr>\n",
       "    <tr>\n",
       "      <th>4</th>\n",
       "      <td>north</td>\n",
       "      <td>7</td>\n",
       "      <td>5</td>\n",
       "      <td>322</td>\n",
       "      <td>2200000</td>\n",
       "    </tr>\n",
       "    <tr>\n",
       "      <th>...</th>\n",
       "      <td>...</td>\n",
       "      <td>...</td>\n",
       "      <td>...</td>\n",
       "      <td>...</td>\n",
       "      <td>...</td>\n",
       "    </tr>\n",
       "    <tr>\n",
       "      <th>4255</th>\n",
       "      <td>south</td>\n",
       "      <td>7</td>\n",
       "      <td>5</td>\n",
       "      <td>500</td>\n",
       "      <td>850000</td>\n",
       "    </tr>\n",
       "    <tr>\n",
       "      <th>4256</th>\n",
       "      <td>south</td>\n",
       "      <td>7</td>\n",
       "      <td>5</td>\n",
       "      <td>270</td>\n",
       "      <td>850000</td>\n",
       "    </tr>\n",
       "    <tr>\n",
       "      <th>4257</th>\n",
       "      <td>south</td>\n",
       "      <td>5</td>\n",
       "      <td>5</td>\n",
       "      <td>450</td>\n",
       "      <td>1700000</td>\n",
       "    </tr>\n",
       "    <tr>\n",
       "      <th>4258</th>\n",
       "      <td>south</td>\n",
       "      <td>5</td>\n",
       "      <td>4</td>\n",
       "      <td>552</td>\n",
       "      <td>1200000</td>\n",
       "    </tr>\n",
       "    <tr>\n",
       "      <th>4259</th>\n",
       "      <td>south</td>\n",
       "      <td>5</td>\n",
       "      <td>5</td>\n",
       "      <td>500</td>\n",
       "      <td>1800000</td>\n",
       "    </tr>\n",
       "  </tbody>\n",
       "</table>\n",
       "<p>4260 rows × 5 columns</p>\n",
       "</div>"
      ],
      "text/plain": [
       "     Location  SleepRoom  BathRoom  Size    Prices\n",
       "0       north          4         5  300   1900000 \n",
       "1       north          6         5  315   2150000 \n",
       "2       north          3         3  750   4750000 \n",
       "3       north          7         5  950   6500000 \n",
       "4       north          7         5  322   2200000 \n",
       "...       ...        ...       ...   ...       ...\n",
       "4255    south          7         5  500    850000 \n",
       "4256    south          7         5  270    850000 \n",
       "4257    south          5         5  450   1700000 \n",
       "4258    south          5         4  552   1200000 \n",
       "4259    south          5         5  500   1800000 \n",
       "\n",
       "[4260 rows x 5 columns]"
      ]
     },
     "execution_count": 8,
     "metadata": {},
     "output_type": "execute_result"
    }
   ],
   "source": [
    "df = df.drop('Unnamed: 0',axis=1)\n",
    "df"
   ]
  },
  {
   "cell_type": "code",
   "execution_count": 9,
   "id": "labeled-pepper",
   "metadata": {},
   "outputs": [
    {
     "name": "stdout",
     "output_type": "stream",
     "text": [
      "<class 'pandas.core.frame.DataFrame'>\n",
      "RangeIndex: 4260 entries, 0 to 4259\n",
      "Data columns (total 5 columns):\n",
      " #   Column     Non-Null Count  Dtype \n",
      "---  ------     --------------  ----- \n",
      " 0   Location   4260 non-null   object\n",
      " 1   SleepRoom  4260 non-null   int64 \n",
      " 2   BathRoom   4260 non-null   int64 \n",
      " 3   Size       4260 non-null   int64 \n",
      " 4   Prices     4260 non-null   int64 \n",
      "dtypes: int64(4), object(1)\n",
      "memory usage: 166.5+ KB\n"
     ]
    }
   ],
   "source": [
    "#Size = int(raw_user_age)\n",
    "df['Size'] = pd.to_numeric(df['Size'])\n",
    "df['Prices'] = pd.to_numeric(df['Prices'])\n",
    "df.info()"
   ]
  },
  {
   "cell_type": "code",
   "execution_count": 10,
   "id": "respiratory-poker",
   "metadata": {},
   "outputs": [
    {
     "data": {
      "text/plain": [
       "Location     0\n",
       "SleepRoom    0\n",
       "BathRoom     0\n",
       "Size         0\n",
       "Prices       0\n",
       "dtype: int64"
      ]
     },
     "execution_count": 10,
     "metadata": {},
     "output_type": "execute_result"
    }
   ],
   "source": [
    "df.isna().sum()"
   ]
  },
  {
   "cell_type": "code",
   "execution_count": 11,
   "id": "published-pontiac",
   "metadata": {},
   "outputs": [
    {
     "data": {
      "text/plain": [
       "<seaborn.axisgrid.PairGrid at 0x7fa7cfd1edf0>"
      ]
     },
     "execution_count": 11,
     "metadata": {},
     "output_type": "execute_result"
    },
    {
     "data": {
      "image/png": "[encoded data removed]",
      "text/plain": [
       "<Figure size 720x720 with 20 Axes>"
      ]
     },
     "metadata": {
      "needs_background": "light"
     },
     "output_type": "display_data"
    }
   ],
   "source": [
    "sns.pairplot(df)"
   ]
  },
  {
   "cell_type": "code",
   "execution_count": 12,
   "id": "humanitarian-legislature",
   "metadata": {},
   "outputs": [
    {
     "data": {
      "text/html": [
       "<div>\n",
       "<style scoped>\n",
       "    .dataframe tbody tr th:only-of-type {\n",
       "        vertical-align: middle;\n",
       "    }\n",
       "\n",
       "    .dataframe tbody tr th {\n",
       "        vertical-align: top;\n",
       "    }\n",
       "\n",
       "    .dataframe thead th {\n",
       "        text-align: right;\n",
       "    }\n",
       "</style>\n",
       "<table border=\"1\" class=\"dataframe\">\n",
       "  <thead>\n",
       "    <tr style=\"text-align: right;\">\n",
       "      <th></th>\n",
       "      <th>Location</th>\n",
       "      <th>Prices</th>\n",
       "    </tr>\n",
       "  </thead>\n",
       "  <tbody>\n",
       "    <tr>\n",
       "      <th>2</th>\n",
       "      <td>north</td>\n",
       "      <td>5097500</td>\n",
       "    </tr>\n",
       "    <tr>\n",
       "      <th>1</th>\n",
       "      <td>middle</td>\n",
       "      <td>2962500</td>\n",
       "    </tr>\n",
       "    <tr>\n",
       "      <th>0</th>\n",
       "      <td>east</td>\n",
       "      <td>2296000</td>\n",
       "    </tr>\n",
       "    <tr>\n",
       "      <th>3</th>\n",
       "      <td>south</td>\n",
       "      <td>1162500</td>\n",
       "    </tr>\n",
       "    <tr>\n",
       "      <th>4</th>\n",
       "      <td>west</td>\n",
       "      <td>1150000</td>\n",
       "    </tr>\n",
       "  </tbody>\n",
       "</table>\n",
       "</div>"
      ],
      "text/plain": [
       "  Location   Prices\n",
       "2    north  5097500\n",
       "1   middle  2962500\n",
       "0     east  2296000\n",
       "3    south  1162500\n",
       "4     west  1150000"
      ]
     },
     "execution_count": 12,
     "metadata": {},
     "output_type": "execute_result"
    }
   ],
   "source": [
    "avg_Location = df[['Location' ,'Prices']].groupby('Location').mean().reset_index().sort_values(by = 'Prices', ascending = False)\n",
    "avg_Location"
   ]
  },
  {
   "cell_type": "code",
   "execution_count": 13,
   "id": "worthy-photography",
   "metadata": {},
   "outputs": [
    {
     "data": {
      "image/png": "[encoded data removed]",
      "text/plain": [
       "<Figure size 432x288 with 1 Axes>"
      ]
     },
     "metadata": {
      "needs_background": "light"
     },
     "output_type": "display_data"
    }
   ],
   "source": [
    "sns.barplot(data=avg_Location, x='Prices',y='Location', palette = 'deep');"
   ]
  },
  {
   "cell_type": "code",
   "execution_count": 14,
   "id": "exciting-voltage",
   "metadata": {},
   "outputs": [
    {
     "data": {
      "text/html": [
       "<div>\n",
       "<style scoped>\n",
       "    .dataframe tbody tr th:only-of-type {\n",
       "        vertical-align: middle;\n",
       "    }\n",
       "\n",
       "    .dataframe tbody tr th {\n",
       "        vertical-align: top;\n",
       "    }\n",
       "\n",
       "    .dataframe thead th {\n",
       "        text-align: right;\n",
       "    }\n",
       "</style>\n",
       "<table border=\"1\" class=\"dataframe\">\n",
       "  <thead>\n",
       "    <tr style=\"text-align: right;\">\n",
       "      <th></th>\n",
       "      <th>Location</th>\n",
       "      <th>SleepRoom</th>\n",
       "      <th>BathRoom</th>\n",
       "      <th>Size</th>\n",
       "      <th>Prices</th>\n",
       "    </tr>\n",
       "  </thead>\n",
       "  <tbody>\n",
       "    <tr>\n",
       "      <th>0</th>\n",
       "      <td>2</td>\n",
       "      <td>4</td>\n",
       "      <td>5</td>\n",
       "      <td>300</td>\n",
       "      <td>1900000</td>\n",
       "    </tr>\n",
       "    <tr>\n",
       "      <th>1</th>\n",
       "      <td>2</td>\n",
       "      <td>6</td>\n",
       "      <td>5</td>\n",
       "      <td>315</td>\n",
       "      <td>2150000</td>\n",
       "    </tr>\n",
       "    <tr>\n",
       "      <th>2</th>\n",
       "      <td>2</td>\n",
       "      <td>3</td>\n",
       "      <td>3</td>\n",
       "      <td>750</td>\n",
       "      <td>4750000</td>\n",
       "    </tr>\n",
       "    <tr>\n",
       "      <th>3</th>\n",
       "      <td>2</td>\n",
       "      <td>7</td>\n",
       "      <td>5</td>\n",
       "      <td>950</td>\n",
       "      <td>6500000</td>\n",
       "    </tr>\n",
       "    <tr>\n",
       "      <th>4</th>\n",
       "      <td>2</td>\n",
       "      <td>7</td>\n",
       "      <td>5</td>\n",
       "      <td>322</td>\n",
       "      <td>2200000</td>\n",
       "    </tr>\n",
       "    <tr>\n",
       "      <th>...</th>\n",
       "      <td>...</td>\n",
       "      <td>...</td>\n",
       "      <td>...</td>\n",
       "      <td>...</td>\n",
       "      <td>...</td>\n",
       "    </tr>\n",
       "    <tr>\n",
       "      <th>4255</th>\n",
       "      <td>3</td>\n",
       "      <td>7</td>\n",
       "      <td>5</td>\n",
       "      <td>500</td>\n",
       "      <td>850000</td>\n",
       "    </tr>\n",
       "    <tr>\n",
       "      <th>4256</th>\n",
       "      <td>3</td>\n",
       "      <td>7</td>\n",
       "      <td>5</td>\n",
       "      <td>270</td>\n",
       "      <td>850000</td>\n",
       "    </tr>\n",
       "    <tr>\n",
       "      <th>4257</th>\n",
       "      <td>3</td>\n",
       "      <td>5</td>\n",
       "      <td>5</td>\n",
       "      <td>450</td>\n",
       "      <td>1700000</td>\n",
       "    </tr>\n",
       "    <tr>\n",
       "      <th>4258</th>\n",
       "      <td>3</td>\n",
       "      <td>5</td>\n",
       "      <td>4</td>\n",
       "      <td>552</td>\n",
       "      <td>1200000</td>\n",
       "    </tr>\n",
       "    <tr>\n",
       "      <th>4259</th>\n",
       "      <td>3</td>\n",
       "      <td>5</td>\n",
       "      <td>5</td>\n",
       "      <td>500</td>\n",
       "      <td>1800000</td>\n",
       "    </tr>\n",
       "  </tbody>\n",
       "</table>\n",
       "<p>4260 rows × 5 columns</p>\n",
       "</div>"
      ],
      "text/plain": [
       "      Location  SleepRoom  BathRoom  Size   Prices\n",
       "0            2          4         5   300  1900000\n",
       "1            2          6         5   315  2150000\n",
       "2            2          3         3   750  4750000\n",
       "3            2          7         5   950  6500000\n",
       "4            2          7         5   322  2200000\n",
       "...        ...        ...       ...   ...      ...\n",
       "4255         3          7         5   500   850000\n",
       "4256         3          7         5   270   850000\n",
       "4257         3          5         5   450  1700000\n",
       "4258         3          5         4   552  1200000\n",
       "4259         3          5         5   500  1800000\n",
       "\n",
       "[4260 rows x 5 columns]"
      ]
     },
     "execution_count": 14,
     "metadata": {},
     "output_type": "execute_result"
    }
   ],
   "source": [
    "from sklearn.preprocessing import LabelEncoder\n",
    "labelencoder = LabelEncoder()\n",
    "df['Location'] = labelencoder.fit_transform(df['Location'])\n",
    "df"
   ]
  },
  {
   "cell_type": "code",
   "execution_count": 15,
   "id": "attempted-foundation",
   "metadata": {},
   "outputs": [
    {
     "data": {
      "image/png": "[encoded data removed]",
      "text/plain": [
       "<Figure size 720x432 with 2 Axes>"
      ]
     },
     "metadata": {
      "needs_background": "light"
     },
     "output_type": "display_data"
    }
   ],
   "source": [
    "plt.figure(figsize=(10, 6))\n",
    "heatmap = sns.heatmap(df.corr(), vmin=-1, vmax=1, annot=True,cmap=\"YlGnBu\")\n",
    "heatmap.set_title('Correlation Heatmap', fontdict={'fontsize':12}, pad=12);\n",
    "plt.show()"
   ]
  },
  {
   "cell_type": "code",
   "execution_count": 16,
   "id": "automatic-greenhouse",
   "metadata": {},
   "outputs": [
    {
     "name": "stderr",
     "output_type": "stream",
     "text": [
      "/Applications/anaconda3/lib/python3.8/site-packages/seaborn/distributions.py:2557: FutureWarning: `distplot` is a deprecated function and will be removed in a future version. Please adapt your code to use either `displot` (a figure-level function with similar flexibility) or `histplot` (an axes-level function for histograms).\n",
      "  warnings.warn(msg, FutureWarning)\n"
     ]
    },
    {
     "data": {
      "image/png": "[encoded data removed]",
      "text/plain": [
       "<Figure size 432x288 with 1 Axes>"
      ]
     },
     "metadata": {
      "needs_background": "light"
     },
     "output_type": "display_data"
    }
   ],
   "source": [
    "sns.distplot(df['Size']);"
   ]
  },
  {
   "cell_type": "markdown",
   "id": "dried-perfume",
   "metadata": {},
   "source": [
    "# Split dataset [ train - vaidation - test ]"
   ]
  },
  {
   "cell_type": "code",
   "execution_count": 17,
   "id": "sublime-trader",
   "metadata": {},
   "outputs": [],
   "source": [
    "X_train, X_test, y_train, y_test = train_test_split(df[['Size']], df[['Prices']], \n",
    "                                                    test_size=0.3, random_state=42)\n",
    "\n",
    "X_train, X_val, y_train, y_val = train_test_split(X_train, y_train, test_size=0.3, random_state=42)"
   ]
  },
  {
   "cell_type": "code",
   "execution_count": 18,
   "id": "nutritional-spirit",
   "metadata": {},
   "outputs": [
    {
     "name": "stdout",
     "output_type": "stream",
     "text": [
      "Training Data has (2087, 1)\n",
      "Testing Data has (1278, 1)\n",
      "Validation Data has (895, 1)\n"
     ]
    }
   ],
   "source": [
    "print(\"Training Data has\",X_train.shape)\n",
    "print(\"Testing Data has\",X_test.shape)\n",
    "print(\"Validation Data has\",X_val.shape)"
   ]
  },
  {
   "cell_type": "code",
   "execution_count": 19,
   "id": "decimal-thursday",
   "metadata": {},
   "outputs": [
    {
     "name": "stdout",
     "output_type": "stream",
     "text": [
      "Training accuracy:  0.680253941960147\n",
      "Training error:  0.319746058039853\n",
      "Testing accuracy:  0.7097951630513776\n",
      "Testing error:  0.2902048369486224\n"
     ]
    }
   ],
   "source": [
    "list_models=[]\n",
    "list_scores=[]\n",
    "list_errors=[]\n",
    "lr=LinearRegression()\n",
    "lr.fit(X_train,y_train)\n",
    "pred_1=lr.predict(X_val)\n",
    "score_1=r2_score(y_val,pred_1)\n",
    "error_1=mean_squared_error(y_val,pred_1)\n",
    "list_models.append('linear regression')\n",
    "list_scores.append(score_1)\n",
    "list_errors.append(error_1)\n",
    "print(\"Training accuracy: \",r2_score(y_train,lr.predict(X_train)))\n",
    "print(\"Training error: \",1-r2_score(y_train,lr.predict(X_train)))\n",
    "print(\"Testing accuracy: \",r2_score(y_val,lr.predict(X_val)))\n",
    "print(\"Testing error: \",1-r2_score(y_val,lr.predict(X_val)))"
   ]
  },
  {
   "cell_type": "code",
   "execution_count": 20,
   "id": "special-omaha",
   "metadata": {},
   "outputs": [
    {
     "data": {
      "text/plain": [
       "array([[5452.46140938]])"
      ]
     },
     "execution_count": 20,
     "metadata": {},
     "output_type": "execute_result"
    }
   ],
   "source": [
    "lr.coef_"
   ]
  },
  {
   "cell_type": "code",
   "execution_count": 21,
   "id": "initial-commonwealth",
   "metadata": {},
   "outputs": [
    {
     "data": {
      "text/plain": [
       "array([-328108.31337266])"
      ]
     },
     "execution_count": 21,
     "metadata": {},
     "output_type": "execute_result"
    }
   ],
   "source": [
    "lr.intercept_"
   ]
  },
  {
   "cell_type": "code",
   "execution_count": 22,
   "id": "fatal-cement",
   "metadata": {},
   "outputs": [
    {
     "name": "stdout",
     "output_type": "stream",
     "text": [
      "Mean Absolute Error: 3309842514265.247\n"
     ]
    }
   ],
   "source": [
    "from sklearn.metrics import mean_absolute_error, mean_squared_error, r2_score\n",
    "print('Mean Absolute Error:', mean_squared_error(lr.predict(X_test), y_test))"
   ]
  },
  {
   "cell_type": "code",
   "execution_count": 23,
   "id": "clean-minneapolis",
   "metadata": {},
   "outputs": [
    {
     "data": {
      "text/plain": [
       "0.7175698685879908"
      ]
     },
     "execution_count": 23,
     "metadata": {},
     "output_type": "execute_result"
    }
   ],
   "source": [
    "test_score = lr.score(X_test, y_test)\n",
    "test_score"
   ]
  },
  {
   "cell_type": "code",
   "execution_count": 24,
   "id": "sexual-remark",
   "metadata": {},
   "outputs": [
    {
     "data": {
      "image/png": "[encoded data removed]",
      "text/plain": [
       "<Figure size 720x576 with 1 Axes>"
      ]
     },
     "metadata": {
      "needs_background": "light"
     },
     "output_type": "display_data"
    }
   ],
   "source": [
    "fig, ax = plt.subplots(figsize=(10,8))\n",
    "ax.scatter(y_val, pred_1)\n",
    "ax.plot([y_val.min(), y_val.max()], [y_val.min(), y_val.max()], 'k--', lw=4)\n",
    "ax.set_title('Actual vs Predicted Price')\n",
    "ax.set_xlabel('Actual Price')\n",
    "ax.set_ylabel('Predicted Price')\n",
    "plt.show()"
   ]
  },
  {
   "cell_type": "code",
   "execution_count": 25,
   "id": "optical-nudist",
   "metadata": {},
   "outputs": [
    {
     "data": {
      "text/html": [
       "<table class=\"simpletable\">\n",
       "<caption>OLS Regression Results</caption>\n",
       "<tr>\n",
       "  <th>Dep. Variable:</th>         <td>Prices</td>      <th>  R-squared (uncentered):</th>      <td>   0.789</td> \n",
       "</tr>\n",
       "<tr>\n",
       "  <th>Model:</th>                   <td>OLS</td>       <th>  Adj. R-squared (uncentered):</th> <td>   0.789</td> \n",
       "</tr>\n",
       "<tr>\n",
       "  <th>Method:</th>             <td>Least Squares</td>  <th>  F-statistic:       </th>          <td>   7820.</td> \n",
       "</tr>\n",
       "<tr>\n",
       "  <th>Date:</th>             <td>Thu, 09 Dec 2021</td> <th>  Prob (F-statistic):</th>           <td>  0.00</td>  \n",
       "</tr>\n",
       "<tr>\n",
       "  <th>Time:</th>                 <td>10:04:35</td>     <th>  Log-Likelihood:    </th>          <td> -33122.</td> \n",
       "</tr>\n",
       "<tr>\n",
       "  <th>No. Observations:</th>      <td>  2087</td>      <th>  AIC:               </th>          <td>6.625e+04</td>\n",
       "</tr>\n",
       "<tr>\n",
       "  <th>Df Residuals:</th>          <td>  2086</td>      <th>  BIC:               </th>          <td>6.625e+04</td>\n",
       "</tr>\n",
       "<tr>\n",
       "  <th>Df Model:</th>              <td>     1</td>      <th>                     </th>              <td> </td>    \n",
       "</tr>\n",
       "<tr>\n",
       "  <th>Covariance Type:</th>      <td>nonrobust</td>    <th>                     </th>              <td> </td>    \n",
       "</tr>\n",
       "</table>\n",
       "<table class=\"simpletable\">\n",
       "<tr>\n",
       "    <td></td>      <th>coef</th>     <th>std err</th>      <th>t</th>      <th>P>|t|</th>  <th>[0.025</th>    <th>0.975]</th>  \n",
       "</tr>\n",
       "<tr>\n",
       "  <th>Size</th> <td> 5125.3992</td> <td>   57.958</td> <td>   88.433</td> <td> 0.000</td> <td> 5011.737</td> <td> 5239.061</td>\n",
       "</tr>\n",
       "</table>\n",
       "<table class=\"simpletable\">\n",
       "<tr>\n",
       "  <th>Omnibus:</th>       <td>745.223</td> <th>  Durbin-Watson:     </th> <td>   2.029</td> \n",
       "</tr>\n",
       "<tr>\n",
       "  <th>Prob(Omnibus):</th> <td> 0.000</td>  <th>  Jarque-Bera (JB):  </th> <td>20960.877</td>\n",
       "</tr>\n",
       "<tr>\n",
       "  <th>Skew:</th>          <td> 1.076</td>  <th>  Prob(JB):          </th> <td>    0.00</td> \n",
       "</tr>\n",
       "<tr>\n",
       "  <th>Kurtosis:</th>      <td>18.376</td>  <th>  Cond. No.          </th> <td>    1.00</td> \n",
       "</tr>\n",
       "</table><br/><br/>Notes:<br/>[1] R² is computed without centering (uncentered) since the model does not contain a constant.<br/>[2] Standard Errors assume that the covariance matrix of the errors is correctly specified."
      ],
      "text/plain": [
       "<class 'statsmodels.iolib.summary.Summary'>\n",
       "\"\"\"\n",
       "                                 OLS Regression Results                                \n",
       "=======================================================================================\n",
       "Dep. Variable:                 Prices   R-squared (uncentered):                   0.789\n",
       "Model:                            OLS   Adj. R-squared (uncentered):              0.789\n",
       "Method:                 Least Squares   F-statistic:                              7820.\n",
       "Date:                Thu, 09 Dec 2021   Prob (F-statistic):                        0.00\n",
       "Time:                        10:04:35   Log-Likelihood:                         -33122.\n",
       "No. Observations:                2087   AIC:                                  6.625e+04\n",
       "Df Residuals:                    2086   BIC:                                  6.625e+04\n",
       "Df Model:                           1                                                  \n",
       "Covariance Type:            nonrobust                                                  \n",
       "==============================================================================\n",
       "                 coef    std err          t      P>|t|      [0.025      0.975]\n",
       "------------------------------------------------------------------------------\n",
       "Size        5125.3992     57.958     88.433      0.000    5011.737    5239.061\n",
       "==============================================================================\n",
       "Omnibus:                      745.223   Durbin-Watson:                   2.029\n",
       "Prob(Omnibus):                  0.000   Jarque-Bera (JB):            20960.877\n",
       "Skew:                           1.076   Prob(JB):                         0.00\n",
       "Kurtosis:                      18.376   Cond. No.                         1.00\n",
       "==============================================================================\n",
       "\n",
       "Notes:\n",
       "[1] R² is computed without centering (uncentered) since the model does not contain a constant.\n",
       "[2] Standard Errors assume that the covariance matrix of the errors is correctly specified.\n",
       "\"\"\""
      ]
     },
     "execution_count": 25,
     "metadata": {},
     "output_type": "execute_result"
    }
   ],
   "source": [
    "import statsmodels.api as sm\n",
    "_model = sm.OLS(y_train, X_train, data=df)\n",
    "results =_model.fit()\n",
    "results.summary()"
   ]
  },
  {
   "cell_type": "code",
   "execution_count": 26,
   "id": "annual-pierre",
   "metadata": {},
   "outputs": [
    {
     "name": "stdout",
     "output_type": "stream",
     "text": [
      "Mean Absolute Error: 3289413181591.092\n"
     ]
    }
   ],
   "source": [
    "from sklearn.preprocessing import PolynomialFeatures\n",
    "poly = PolynomialFeatures(degree=2)\n",
    "X_train_poly = poly.fit_transform(X_train)\n",
    "X_test_poly= poly.transform(X_test)\n",
    "X_val_poly= poly.transform(X_val)\n",
    "Plr = LinearRegression()\n",
    "Plr.fit(X_train_poly, y_train)\n",
    "print('Mean Absolute Error:', mean_squared_error(Plr.predict(X_test_poly), y_test))"
   ]
  },
  {
   "cell_type": "code",
   "execution_count": 27,
   "id": "systematic-guard",
   "metadata": {},
   "outputs": [
    {
     "name": "stdout",
     "output_type": "stream",
     "text": [
      "0.6803741219763744\n",
      "0.7193131113818558\n",
      "0.7110331221732928\n"
     ]
    }
   ],
   "source": [
    "print(\"Train score\",Plr.score(X_train_poly, y_train))\n",
    "\n",
    "print(\"Test score\",Plr.score(X_test_poly, y_test))\n",
    "\n",
    "print(\"val score\",Plr.score(X_val_poly, y_val))"
   ]
  }
 ],
 "metadata": {
  "kernelspec": {
   "display_name": "Python 3",
   "language": "python",
   "name": "python3"
  },
  "language_info": {
   "codemirror_mode": {
    "name": "ipython",
    "version": 3
   },
   "file_extension": ".py",
   "mimetype": "text/x-python",
   "name": "python",
   "nbconvert_exporter": "python",
   "pygments_lexer": "ipython3",
   "version": "3.8.5"
  }
 },
 "nbformat": 4,
 "nbformat_minor": 5
}
